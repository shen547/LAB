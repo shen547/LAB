{
 "cells": [
  {
   "cell_type": "code",
   "execution_count": 10,
   "metadata": {},
   "outputs": [
    {
     "name": "stdout",
     "output_type": "stream",
     "text": [
      "{'array': [1, 2, 3, 4],\n",
      " 'number': 123,\n",
      " 'object': {'iii': 123, 'just': 'key'},\n",
      " 'string': 'LOL'}\n",
      "{'number': 123, 'string': 'we will see', 'array': [4, 3, 2, 1], 'object': {'iii': 'key', 'just': 123}}\n"
     ]
    }
   ],
   "source": [
    "import os\n",
    "import json\n",
    "from pprint import pprint\n",
    "\n",
    "#======================================\n",
    "#新增json\n",
    "\n",
    "jsonf0 ={\n",
    "    \"number\":123,    \n",
    "    \"string\":\"LOL\",\n",
    "    \"array\":[1,2,3,4],\n",
    "    \"object\":{\"iii\":123,\"just\":\"key\"}\n",
    "}\n",
    "#印出jsonobject內容\n",
    "\n",
    "pprint(jsonf0)\n",
    "\n",
    "#=======================================\n",
    "#開啟新檔案hitestjson\n",
    "openf = open('./hitestjson','w')\n",
    "\n",
    "#把jsonf0轉成jason格式tpye為str\n",
    "jsonf1=json.dumps(jsonf0)\n",
    "\n",
    "#將json1寫入testjson檔\n",
    "openf.write(jsonf1)\n",
    "\n",
    "#將testjson關閉\n",
    "openf.close()\n",
    "\n",
    "#=================================\n",
    "#打開hitestjeson的檔案\n",
    "openj = open('./hitestjson','r')\n",
    "\n",
    "# 載入json內容至jsonf2變數中\n",
    "jsonf2 = json.load(openj)\n",
    "\n",
    "# 將檔案testjson關閉\n",
    "openj.close()\n",
    "\n",
    "#=================================\n",
    "jsonf2[\"number\"]=123\n",
    "\n",
    "jsonf2[\"string\"]=\"we will see\"\n",
    "\n",
    "jsonf2[\"array\"]=[4,3,2,1]\n",
    "\n",
    "jsonf2[\"object\"]={\"iii\":\"key\",\"just\":123}\n",
    "\n",
    "#=================================\n",
    "print(jsonf2)\n",
    "\n",
    "jsonf3=json.dumps(jsonf2)\n",
    "#=================================\n",
    "openf1 = open('./hitestjson','w')\n",
    "\n",
    "openf1.write(jsonf3)\n",
    "\n",
    "openf1.close()"
   ]
  },
  {
   "cell_type": "code",
   "execution_count": null,
   "metadata": {},
   "outputs": [],
   "source": []
  },
  {
   "cell_type": "code",
   "execution_count": null,
   "metadata": {},
   "outputs": [],
   "source": []
  }
 ],
 "metadata": {
  "kernelspec": {
   "display_name": "Python 3",
   "language": "python",
   "name": "python3"
  },
  "language_info": {
   "codemirror_mode": {
    "name": "ipython",
    "version": 3
   },
   "file_extension": ".py",
   "mimetype": "text/x-python",
   "name": "python",
   "nbconvert_exporter": "python",
   "pygments_lexer": "ipython3",
   "version": "3.7.2"
  }
 },
 "nbformat": 4,
 "nbformat_minor": 2
}
